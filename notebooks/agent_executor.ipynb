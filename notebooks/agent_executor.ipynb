{
 "cells": [
  {
   "cell_type": "code",
   "execution_count": 1,
   "metadata": {},
   "outputs": [
    {
     "data": {
      "text/plain": [
       "True"
      ]
     },
     "execution_count": 1,
     "metadata": {},
     "output_type": "execute_result"
    }
   ],
   "source": [
    "from __future__ import annotations\n",
    "\n",
    "from typing import TYPE_CHECKING\n",
    "\n",
    "from dotenv import load_dotenv\n",
    "import os\n",
    "\n",
    "# Load environment variables from .env file\n",
    "load_dotenv()"
   ]
  },
  {
   "cell_type": "code",
   "execution_count": 2,
   "metadata": {},
   "outputs": [],
   "source": [
    "from typing import (\n",
    "    Any,\n",
    "    AsyncIterator,\n",
    "    Dict,\n",
    "    Iterable,\n",
    "    Iterator,\n",
    "    List,\n",
    "    Optional,\n",
    "    Sequence,\n",
    "    cast,\n",
    ")\n",
    "import rich\n",
    "from sandbox_agent import debugger\n",
    "from langchain_core.runnables.schema import StreamEvent\n",
    "\n",
    "\n",
    "class AnyStr(str):\n",
    "    def __eq__(self, other: Any) -> bool:\n",
    "        return isinstance(other, str)\n",
    "\n",
    "\n",
    "def _with_nulled_run_id(events: Sequence[StreamEvent]) -> List[StreamEvent]:\n",
    "    \"\"\"Removes the run ids from events.\"\"\"\n",
    "    for event in events:\n",
    "        assert \"run_id\" in event, f\"Event {event} does not have a run_id.\"\n",
    "        assert \"parent_ids\" in event, f\"Event {event} does not have parent_ids.\"\n",
    "        assert isinstance(\n",
    "            event[\"run_id\"], str\n",
    "        ), f\"Event {event} run_id is not a string.\"\n",
    "        assert isinstance(\n",
    "            event[\"parent_ids\"], list\n",
    "        ), f\"Event {event} parent_ids is not a list.\"\n",
    "\n",
    "    return cast(\n",
    "        List[StreamEvent],\n",
    "        [{**event, \"run_id\": \"\", \"parent_ids\": []} for event in events],\n",
    "    )\n",
    "\n",
    "\n",
    "async def _as_async_iterator(iterable: List) -> AsyncIterator:\n",
    "    \"\"\"Converts an iterable into an async iterator.\"\"\"\n",
    "    for item in iterable:\n",
    "        yield item\n",
    "\n",
    "\n",
    "async def _collect_events(\n",
    "    events: AsyncIterator[StreamEvent], with_nulled_ids: bool = True\n",
    ") -> List[StreamEvent]:\n",
    "    \"\"\"Collect the events and remove the run ids.\"\"\"\n",
    "    materialized_events = [event async for event in events]\n",
    "\n",
    "    if with_nulled_ids:\n",
    "        events_ = _with_nulled_run_id(materialized_events)\n",
    "    else:\n",
    "        events_ = materialized_events\n",
    "    for event in events_:\n",
    "        event[\"tags\"] = sorted(event[\"tags\"])\n",
    "    return events_"
   ]
  },
  {
   "cell_type": "code",
   "execution_count": 3,
   "metadata": {},
   "outputs": [
    {
     "ename": "ModuleNotFoundError",
     "evalue": "No module named 'src'",
     "output_type": "error",
     "traceback": [
      "\u001b[0;31m---------------------------------------------------------------------------\u001b[0m",
      "\u001b[0;31mModuleNotFoundError\u001b[0m                       Traceback (most recent call last)",
      "Cell \u001b[0;32mIn[3], line 1\u001b[0m\n\u001b[0;32m----> 1\u001b[0m \u001b[38;5;28;01mfrom\u001b[39;00m \u001b[38;5;21;01msrc\u001b[39;00m\u001b[38;5;21;01m.\u001b[39;00m\u001b[38;5;21;01msandbox_agent\u001b[39;00m\u001b[38;5;21;01m.\u001b[39;00m\u001b[38;5;21;01mai\u001b[39;00m\u001b[38;5;21;01m.\u001b[39;00m\u001b[38;5;21;01mworkflows\u001b[39;00m \u001b[38;5;28;01mimport\u001b[39;00m WorkflowFactory\n\u001b[1;32m      3\u001b[0m workflow \u001b[38;5;241m=\u001b[39m WorkflowFactory\u001b[38;5;241m.\u001b[39mcreate()\n\u001b[1;32m      4\u001b[0m \u001b[38;5;66;03m# workflow.pretty_print()\u001b[39;00m\n",
      "\u001b[0;31mModuleNotFoundError\u001b[0m: No module named 'src'"
     ]
    }
   ],
   "source": [
    "from sandbox_agent.ai.workflows import WorkflowFactory\n",
    "\n",
    "workflow = WorkflowFactory.create()\n",
    "# workflow.pretty_print()\n",
    "\n",
    "\n",
    "from IPython.display import Image, display\n",
    "\n",
    "display(Image(workflow.get_graph(xray=True).draw_mermaid_png()))"
   ]
  }
 ],
 "metadata": {
  "kernelspec": {
   "display_name": ".venv",
   "language": "python",
   "name": "python3"
  },
  "language_info": {
   "codemirror_mode": {
    "name": "ipython",
    "version": 3
   },
   "file_extension": ".py",
   "mimetype": "text/x-python",
   "name": "python",
   "nbconvert_exporter": "python",
   "pygments_lexer": "ipython3",
   "version": "3.12.5"
  }
 },
 "nbformat": 4,
 "nbformat_minor": 2
}
